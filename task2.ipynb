{
 "cells": [
  {
   "cell_type": "code",
   "execution_count": 1,
   "metadata": {},
   "outputs": [],
   "source": [
    "import pandas as pd \n",
    "import numpy as np\n",
    "import matplotlib.pyplot as plt\n",
    "%matplotlib inline"
   ]
  },
  {
   "cell_type": "code",
   "execution_count": 2,
   "metadata": {},
   "outputs": [],
   "source": [
    "data=pd.read_csv('data_clean.csv',engine='python')\n",
    "y=pd.read_csv('data.csv',engine='python')['status']"
   ]
  },
  {
   "cell_type": "code",
   "execution_count": 3,
   "metadata": {},
   "outputs": [
    {
     "data": {
      "text/html": [
       "<div>\n",
       "<style scoped>\n",
       "    .dataframe tbody tr th:only-of-type {\n",
       "        vertical-align: middle;\n",
       "    }\n",
       "\n",
       "    .dataframe tbody tr th {\n",
       "        vertical-align: top;\n",
       "    }\n",
       "\n",
       "    .dataframe thead th {\n",
       "        text-align: right;\n",
       "    }\n",
       "</style>\n",
       "<table border=\"1\" class=\"dataframe\">\n",
       "  <thead>\n",
       "    <tr style=\"text-align: right;\">\n",
       "      <th></th>\n",
       "      <th>锘�</th>\n",
       "      <th>custid</th>\n",
       "      <th>low_volume_percent</th>\n",
       "      <th>middle_volume_percent</th>\n",
       "      <th>take_amount_in_later_12_month_highest</th>\n",
       "      <th>trans_amount_increase_rate_lately</th>\n",
       "      <th>trans_activity_month</th>\n",
       "      <th>trans_activity_day</th>\n",
       "      <th>transd_mcc</th>\n",
       "      <th>trans_days_interval_filter</th>\n",
       "      <th>...</th>\n",
       "      <th>3_y</th>\n",
       "      <th>4_y</th>\n",
       "      <th>5_y</th>\n",
       "      <th>6_y</th>\n",
       "      <th>7_y</th>\n",
       "      <th>8_y</th>\n",
       "      <th>9_y</th>\n",
       "      <th>10_y</th>\n",
       "      <th>11_y</th>\n",
       "      <th>12_y</th>\n",
       "    </tr>\n",
       "  </thead>\n",
       "  <tbody>\n",
       "    <tr>\n",
       "      <th>0</th>\n",
       "      <td>0</td>\n",
       "      <td>0.697138</td>\n",
       "      <td>0.01</td>\n",
       "      <td>0.99</td>\n",
       "      <td>0.000000</td>\n",
       "      <td>0.000019</td>\n",
       "      <td>0.488636</td>\n",
       "      <td>0.308370</td>\n",
       "      <td>0.375</td>\n",
       "      <td>0.094737</td>\n",
       "      <td>...</td>\n",
       "      <td>0</td>\n",
       "      <td>1</td>\n",
       "      <td>0</td>\n",
       "      <td>0</td>\n",
       "      <td>0</td>\n",
       "      <td>0</td>\n",
       "      <td>0</td>\n",
       "      <td>0</td>\n",
       "      <td>0</td>\n",
       "      <td>0</td>\n",
       "    </tr>\n",
       "    <tr>\n",
       "      <th>1</th>\n",
       "      <td>1</td>\n",
       "      <td>0.133331</td>\n",
       "      <td>0.02</td>\n",
       "      <td>0.94</td>\n",
       "      <td>0.029412</td>\n",
       "      <td>0.000027</td>\n",
       "      <td>1.000000</td>\n",
       "      <td>0.468062</td>\n",
       "      <td>0.425</td>\n",
       "      <td>0.105263</td>\n",
       "      <td>...</td>\n",
       "      <td>0</td>\n",
       "      <td>0</td>\n",
       "      <td>1</td>\n",
       "      <td>0</td>\n",
       "      <td>0</td>\n",
       "      <td>0</td>\n",
       "      <td>0</td>\n",
       "      <td>0</td>\n",
       "      <td>0</td>\n",
       "      <td>0</td>\n",
       "    </tr>\n",
       "    <tr>\n",
       "      <th>2</th>\n",
       "      <td>2</td>\n",
       "      <td>0.711603</td>\n",
       "      <td>0.04</td>\n",
       "      <td>0.96</td>\n",
       "      <td>0.000000</td>\n",
       "      <td>0.000021</td>\n",
       "      <td>1.000000</td>\n",
       "      <td>0.089207</td>\n",
       "      <td>0.275</td>\n",
       "      <td>0.238596</td>\n",
       "      <td>...</td>\n",
       "      <td>0</td>\n",
       "      <td>0</td>\n",
       "      <td>1</td>\n",
       "      <td>0</td>\n",
       "      <td>0</td>\n",
       "      <td>0</td>\n",
       "      <td>0</td>\n",
       "      <td>0</td>\n",
       "      <td>0</td>\n",
       "      <td>0</td>\n",
       "    </tr>\n",
       "    <tr>\n",
       "      <th>3</th>\n",
       "      <td>3</td>\n",
       "      <td>0.451881</td>\n",
       "      <td>0.00</td>\n",
       "      <td>0.96</td>\n",
       "      <td>0.029412</td>\n",
       "      <td>0.000003</td>\n",
       "      <td>0.511364</td>\n",
       "      <td>0.819383</td>\n",
       "      <td>0.500</td>\n",
       "      <td>0.049123</td>\n",
       "      <td>...</td>\n",
       "      <td>0</td>\n",
       "      <td>0</td>\n",
       "      <td>1</td>\n",
       "      <td>0</td>\n",
       "      <td>0</td>\n",
       "      <td>0</td>\n",
       "      <td>0</td>\n",
       "      <td>0</td>\n",
       "      <td>0</td>\n",
       "      <td>0</td>\n",
       "    </tr>\n",
       "    <tr>\n",
       "      <th>4</th>\n",
       "      <td>4</td>\n",
       "      <td>0.624214</td>\n",
       "      <td>0.01</td>\n",
       "      <td>0.99</td>\n",
       "      <td>0.000000</td>\n",
       "      <td>0.000010</td>\n",
       "      <td>1.000000</td>\n",
       "      <td>0.156388</td>\n",
       "      <td>0.275</td>\n",
       "      <td>0.231579</td>\n",
       "      <td>...</td>\n",
       "      <td>0</td>\n",
       "      <td>0</td>\n",
       "      <td>0</td>\n",
       "      <td>0</td>\n",
       "      <td>0</td>\n",
       "      <td>0</td>\n",
       "      <td>0</td>\n",
       "      <td>0</td>\n",
       "      <td>0</td>\n",
       "      <td>0</td>\n",
       "    </tr>\n",
       "  </tbody>\n",
       "</table>\n",
       "<p>5 rows × 118 columns</p>\n",
       "</div>"
      ],
      "text/plain": [
       "   锘�    custid  low_volume_percent  middle_volume_percent  \\\n",
       "0   0  0.697138                0.01                   0.99   \n",
       "1   1  0.133331                0.02                   0.94   \n",
       "2   2  0.711603                0.04                   0.96   \n",
       "3   3  0.451881                0.00                   0.96   \n",
       "4   4  0.624214                0.01                   0.99   \n",
       "\n",
       "   take_amount_in_later_12_month_highest  trans_amount_increase_rate_lately  \\\n",
       "0                               0.000000                           0.000019   \n",
       "1                               0.029412                           0.000027   \n",
       "2                               0.000000                           0.000021   \n",
       "3                               0.029412                           0.000003   \n",
       "4                               0.000000                           0.000010   \n",
       "\n",
       "   trans_activity_month  trans_activity_day  transd_mcc  \\\n",
       "0              0.488636            0.308370       0.375   \n",
       "1              1.000000            0.468062       0.425   \n",
       "2              1.000000            0.089207       0.275   \n",
       "3              0.511364            0.819383       0.500   \n",
       "4              1.000000            0.156388       0.275   \n",
       "\n",
       "   trans_days_interval_filter  ...   3_y  4_y  5_y  6_y  7_y  8_y  9_y  10_y  \\\n",
       "0                    0.094737  ...     0    1    0    0    0    0    0     0   \n",
       "1                    0.105263  ...     0    0    1    0    0    0    0     0   \n",
       "2                    0.238596  ...     0    0    1    0    0    0    0     0   \n",
       "3                    0.049123  ...     0    0    1    0    0    0    0     0   \n",
       "4                    0.231579  ...     0    0    0    0    0    0    0     0   \n",
       "\n",
       "   11_y  12_y  \n",
       "0     0     0  \n",
       "1     0     0  \n",
       "2     0     0  \n",
       "3     0     0  \n",
       "4     0     0  \n",
       "\n",
       "[5 rows x 118 columns]"
      ]
     },
     "execution_count": 3,
     "metadata": {},
     "output_type": "execute_result"
    }
   ],
   "source": [
    "data.head()"
   ]
  },
  {
   "cell_type": "code",
   "execution_count": 4,
   "metadata": {},
   "outputs": [
    {
     "name": "stdout",
     "output_type": "stream",
     "text": [
      "latest_query_time\n",
      "loans_latest_time\n"
     ]
    }
   ],
   "source": [
    "for i in data.columns:\n",
    "     if data[i].dtypes==object:\n",
    "            print(i)"
   ]
  },
  {
   "cell_type": "code",
   "execution_count": 5,
   "metadata": {},
   "outputs": [],
   "source": [
    "data.drop(['latest_query_time','loans_latest_time'],axis=1,inplace=True)"
   ]
  },
  {
   "cell_type": "code",
   "execution_count": 6,
   "metadata": {},
   "outputs": [
    {
     "name": "stderr",
     "output_type": "stream",
     "text": [
      "H:\\Anaconda\\lib\\site-packages\\sklearn\\model_selection\\_split.py:2026: FutureWarning: From version 0.21, test_size will always complement train_size unless both are specified.\n",
      "  FutureWarning)\n"
     ]
    }
   ],
   "source": [
    "from sklearn.model_selection import  train_test_split\n",
    "x_train, x_test, y_train, y_test = train_test_split(data,y,train_size=0.7, random_state=2018)"
   ]
  },
  {
   "cell_type": "markdown",
   "metadata": {},
   "source": [
    "###  随机森林挑选特征"
   ]
  },
  {
   "cell_type": "code",
   "execution_count": 7,
   "metadata": {},
   "outputs": [
    {
     "name": "stderr",
     "output_type": "stream",
     "text": [
      "H:\\Anaconda\\lib\\site-packages\\sklearn\\ensemble\\weight_boosting.py:29: DeprecationWarning: numpy.core.umath_tests is an internal NumPy module and should not be imported. It will be removed in a future NumPy release.\n",
      "  from numpy.core.umath_tests import inner1d\n"
     ]
    },
    {
     "data": {
      "text/plain": [
       "0.7708479327259986"
      ]
     },
     "execution_count": 7,
     "metadata": {},
     "output_type": "execute_result"
    }
   ],
   "source": [
    "from sklearn.ensemble import RandomForestClassifier\n",
    "forest=RandomForestClassifier(n_estimators=20,random_state=2019,n_jobs=1)\n",
    "forest.fit(x_train,y_train)\n",
    "forest.score(x_test,y_test)"
   ]
  },
  {
   "cell_type": "code",
   "execution_count": 8,
   "metadata": {},
   "outputs": [
    {
     "name": "stdout",
     "output_type": "stream",
     "text": [
      " 1. 锘�                             0.047994\n",
      " 2. custid                         0.041648\n",
      " 3. low_volume_percent             0.040752\n",
      " 4. middle_volume_percent          0.028679\n",
      " 5. take_amount_in_later_12_month_highest 0.023547\n",
      " 6. trans_amount_increase_rate_lately 0.020278\n",
      " 7. trans_activity_month           0.018777\n",
      " 8. trans_activity_day             0.017722\n",
      " 9. transd_mcc                     0.015768\n",
      "10. trans_days_interval_filter     0.015362\n",
      "11. trans_days_interval            0.015343\n",
      "12. regional_mobility              0.014567\n",
      "13. repayment_capability           0.014521\n",
      "14. is_high_user                   0.014196\n",
      "15. number_of_trans_from_2011      0.014074\n",
      "16. first_transaction_time         0.013983\n",
      "17. historical_trans_amount        0.013756\n",
      "18. historical_trans_day           0.013596\n",
      "19. rank_trad_1_month              0.013580\n",
      "20. trans_amount_3_month           0.013518\n",
      "21. avg_consume_less_12_valid_month 0.013431\n",
      "22. abs                            0.013412\n",
      "23. top_trans_count_last_1_month   0.013350\n",
      "24. avg_price_last_12_month        0.013030\n",
      "25. avg_price_top_last_12_valid_month 0.012782\n",
      "26. trans_top_time_last_1_month    0.012651\n",
      "27. trans_top_time_last_6_month    0.012494\n",
      "28. consume_top_time_last_1_month  0.012448\n",
      "29. consume_top_time_last_6_month  0.012412\n",
      "30. cross_consume_count_last_1_month 0.012265\n",
      "31. trans_fail_top_count_enum_last_1_month 0.012061\n",
      "32. trans_fail_top_count_enum_last_6_month 0.011881\n",
      "33. trans_fail_top_count_enum_last_12_month 0.011701\n",
      "34. consume_mini_time_last_1_month 0.011649\n",
      "35. max_cumulative_consume_later_1_month 0.011646\n",
      "36. max_consume_count_later_6_month 0.011611\n",
      "37. railway_consume_count_last_12_month 0.011339\n",
      "38. pawns_auctions_trusts_consume_last_1_month 0.011227\n",
      "39. pawns_auctions_trusts_consume_last_6_month 0.011080\n",
      "40. jewelry_consume_count_last_6_month 0.010966\n",
      "41. first_transaction_day          0.010775\n",
      "42. trans_day_last_12_month        0.010517\n",
      "43. apply_score                    0.010318\n",
      "44. apply_credibility              0.010279\n",
      "45. query_org_count                0.010219\n",
      "46. query_finance_count            0.010139\n",
      "47. query_cash_count               0.010080\n",
      "48. query_sum_count                0.009643\n",
      "49. latest_one_month_apply         0.009574\n",
      "50. latest_three_month_apply       0.009518\n",
      "51. latest_six_month_apply         0.009340\n",
      "52. loans_score                    0.009280\n",
      "53. loans_credibility_behavior     0.008729\n",
      "54. loans_count                    0.008554\n",
      "55. loans_settle_count             0.008500\n",
      "56. loans_overdue_count            0.008451\n",
      "57. loans_org_count_behavior       0.008327\n",
      "58. consfin_org_count_behavior     0.008327\n",
      "59. loans_cash_count               0.008235\n",
      "60. latest_one_month_loan          0.008207\n",
      "61. latest_three_month_loan        0.008190\n",
      "62. latest_six_month_loan          0.008168\n",
      "63. history_suc_fee                0.008113\n",
      "64. history_fail_fee               0.008071\n",
      "65. latest_one_month_suc           0.008029\n",
      "66. latest_one_month_fail          0.008028\n",
      "67. loans_long_time                0.007903\n",
      "68. loans_credit_limit             0.007759\n",
      "69. loans_credibility_limit        0.007564\n",
      "70. loans_org_count_current        0.007421\n",
      "71. loans_product_count            0.007325\n",
      "72. loans_max_limit                0.007250\n",
      "73. loans_avg_limit                0.006733\n",
      "74. consfin_credit_limit           0.006233\n",
      "75. consfin_credibility            0.006127\n",
      "76. consfin_org_count_current      0.006044\n",
      "77. consfin_product_count          0.005439\n",
      "78. consfin_max_limit              0.004454\n",
      "79. consfin_avg_limit              0.003386\n",
      "80. latest_query_day               0.002829\n",
      "81. loans_latest_day               0.001831\n",
      "82. 涓�绾垮煄甯�                        0.001718\n",
      "83. 涓夌嚎鍩庡競                         0.001587\n",
      "84. 浜岀嚎鍩庡競                         0.001506\n",
      "85. 鍏朵粬鍩庡競                         0.001354\n",
      "86. 澧冨��                           0.001303\n",
      "87. day1                           0.001193\n",
      "88. day2                           0.001141\n",
      "89. 2017_x                         0.001040\n",
      "90. 2018_x                         0.001030\n",
      "91. 1_x                            0.000921\n",
      "92. 2_x                            0.000905\n",
      "93. 3_x                            0.000875\n",
      "94. 4_x                            0.000836\n",
      "95. 5_x                            0.000819\n",
      "96. 6_x                            0.000671\n",
      "97. 7_x                            0.000625\n",
      "98. 8_x                            0.000594\n",
      "99. 9_x                            0.000478\n",
      "100. 10_x                           0.000401\n",
      "101. 11_x                           0.000387\n",
      "102. 12_x                           0.000327\n",
      "103. 2017_y                         0.000253\n",
      "104. 2018_y                         0.000225\n",
      "105. 1_y                            0.000189\n",
      "106. 2_y                            0.000159\n",
      "107. 3_y                            0.000148\n",
      "108. 4_y                            0.000123\n",
      "109. 5_y                            0.000097\n",
      "110. 6_y                            0.000050\n",
      "111. 7_y                            0.000038\n",
      "112. 8_y                            0.000000\n",
      "113. 9_y                            0.000000\n",
      "114. 10_y                           0.000000\n",
      "115. 11_y                           0.000000\n",
      "116. 12_y                           0.000000\n"
     ]
    },
    {
     "ename": "IndexError",
     "evalue": "index 116 is out of bounds for axis 0 with size 116",
     "output_type": "error",
     "traceback": [
      "\u001b[1;31m---------------------------------------------------------------------------\u001b[0m",
      "\u001b[1;31mIndexError\u001b[0m                                Traceback (most recent call last)",
      "\u001b[1;32m<ipython-input-8-4b857e2cd830>\u001b[0m in \u001b[0;36m<module>\u001b[1;34m()\u001b[0m\n\u001b[0;32m      3\u001b[0m \u001b[1;33m\u001b[0m\u001b[0m\n\u001b[0;32m      4\u001b[0m \u001b[1;32mfor\u001b[0m \u001b[0mi\u001b[0m \u001b[1;32min\u001b[0m \u001b[0mrange\u001b[0m\u001b[1;33m(\u001b[0m\u001b[0mlen\u001b[0m\u001b[1;33m(\u001b[0m\u001b[0mx_train\u001b[0m\u001b[1;33m)\u001b[0m\u001b[1;33m-\u001b[0m\u001b[1;36m1\u001b[0m\u001b[1;33m)\u001b[0m\u001b[1;33m:\u001b[0m\u001b[1;33m\u001b[0m\u001b[0m\n\u001b[1;32m----> 5\u001b[1;33m     \u001b[0mprint\u001b[0m\u001b[1;33m(\u001b[0m\u001b[1;34m\"%2d. %-*s %f\"\u001b[0m\u001b[1;33m%\u001b[0m\u001b[1;33m(\u001b[0m\u001b[0mi\u001b[0m\u001b[1;33m+\u001b[0m\u001b[1;36m1\u001b[0m\u001b[1;33m,\u001b[0m \u001b[1;36m30\u001b[0m\u001b[1;33m,\u001b[0m \u001b[0mx_train\u001b[0m\u001b[1;33m.\u001b[0m\u001b[0mcolumns\u001b[0m\u001b[1;33m[\u001b[0m\u001b[0mi\u001b[0m\u001b[1;33m]\u001b[0m\u001b[1;33m,\u001b[0m \u001b[0mimportance\u001b[0m\u001b[1;33m[\u001b[0m\u001b[0mimp_result\u001b[0m\u001b[1;33m[\u001b[0m\u001b[0mi\u001b[0m\u001b[1;33m]\u001b[0m\u001b[1;33m]\u001b[0m\u001b[1;33m)\u001b[0m\u001b[1;33m)\u001b[0m\u001b[1;33m\u001b[0m\u001b[0m\n\u001b[0m",
      "\u001b[1;32mH:\\Anaconda\\lib\\site-packages\\pandas\\core\\indexes\\base.py\u001b[0m in \u001b[0;36m__getitem__\u001b[1;34m(self, key)\u001b[0m\n\u001b[0;32m   2082\u001b[0m \u001b[1;33m\u001b[0m\u001b[0m\n\u001b[0;32m   2083\u001b[0m         \u001b[1;32mif\u001b[0m \u001b[0mis_scalar\u001b[0m\u001b[1;33m(\u001b[0m\u001b[0mkey\u001b[0m\u001b[1;33m)\u001b[0m\u001b[1;33m:\u001b[0m\u001b[1;33m\u001b[0m\u001b[0m\n\u001b[1;32m-> 2084\u001b[1;33m             \u001b[1;32mreturn\u001b[0m \u001b[0mgetitem\u001b[0m\u001b[1;33m(\u001b[0m\u001b[0mkey\u001b[0m\u001b[1;33m)\u001b[0m\u001b[1;33m\u001b[0m\u001b[0m\n\u001b[0m\u001b[0;32m   2085\u001b[0m \u001b[1;33m\u001b[0m\u001b[0m\n\u001b[0;32m   2086\u001b[0m         \u001b[1;32mif\u001b[0m \u001b[0misinstance\u001b[0m\u001b[1;33m(\u001b[0m\u001b[0mkey\u001b[0m\u001b[1;33m,\u001b[0m \u001b[0mslice\u001b[0m\u001b[1;33m)\u001b[0m\u001b[1;33m:\u001b[0m\u001b[1;33m\u001b[0m\u001b[0m\n",
      "\u001b[1;31mIndexError\u001b[0m: index 116 is out of bounds for axis 0 with size 116"
     ]
    }
   ],
   "source": [
    "importance = forest.feature_importances_#重要特征是指与因变量密切相关的特征，并且对因变量的变化影响较大\n",
    "imp_result = np.argsort(importance)[::-1]#排序\n",
    "\n",
    "for i in range(len(x_train)-1):\n",
    "    print(\"%2d. %-*s %f\"%(i+1, 30, x_train.columns[i], importance[imp_result[i]]))"
   ]
  },
  {
   "cell_type": "code",
   "execution_count": 9,
   "metadata": {},
   "outputs": [
    {
     "name": "stderr",
     "output_type": "stream",
     "text": [
      "H:\\Anaconda\\lib\\site-packages\\pandas\\core\\frame.py:3697: SettingWithCopyWarning: \n",
      "A value is trying to be set on a copy of a slice from a DataFrame\n",
      "\n",
      "See the caveats in the documentation: http://pandas.pydata.org/pandas-docs/stable/indexing.html#indexing-view-versus-copy\n",
      "  errors=errors)\n"
     ]
    }
   ],
   "source": [
    "threshold = 0.01\n",
    "data_index = list(x_train.columns[ importance < threshold])\n",
    "x_train.drop(data_index,axis=1,inplace=True)\n",
    "x_test.drop(data_index,axis = 1,inplace = True)"
   ]
  },
  {
   "cell_type": "code",
   "execution_count": 10,
   "metadata": {},
   "outputs": [
    {
     "data": {
      "text/plain": [
       "0.7687456201822004"
      ]
     },
     "execution_count": 10,
     "metadata": {},
     "output_type": "execute_result"
    }
   ],
   "source": [
    "from sklearn import ensemble\n",
    "model_random_forest_Classifier = ensemble.RandomForestClassifier(n_estimators=20,random_state = 2019)\n",
    "model_random_forest_Classifier.fit(x_train,y_train)\n",
    "model_random_forest_Classifier.score(x_test,y_test)"
   ]
  },
  {
   "cell_type": "markdown",
   "metadata": {},
   "source": [
    "### IV值（借鉴）"
   ]
  },
  {
   "cell_type": "code",
   "execution_count": null,
   "metadata": {},
   "outputs": [
    {
     "name": "stderr",
     "output_type": "stream",
     "text": [
      "H:\\Anaconda\\lib\\site-packages\\ipykernel_launcher.py:10: RuntimeWarning: divide by zero encountered in true_divide\n",
      "  # Remove the CWD from sys.path while we load stuff.\n",
      "H:\\Anaconda\\lib\\site-packages\\ipykernel_launcher.py:10: RuntimeWarning: divide by zero encountered in log\n",
      "  # Remove the CWD from sys.path while we load stuff.\n"
     ]
    }
   ],
   "source": [
    "def CalcIV(Xvar,Yvar):\n",
    "    N_0=np.sum(Yvar==0)\n",
    "    N_1=np.sum(Yvar==1)\n",
    "    N_0_group=np.zeros(np.unique(Xvar).shape)\n",
    "    \n",
    "    N_1_group=np.zeros(np.unique(Xvar).shape)\n",
    "    for i in range(len(np.unique(Xvar))):\n",
    "        N_0_group[i] = Yvar[(Xvar==np.unique(Xvar)[i])&(Yvar==0)].count()\n",
    "        N_1_group[i] = Yvar[(Xvar==np.unique(Xvar)[i])&(Yvar==1)].count()\n",
    "    iv = np.sum((N_0_group/N_0-N_1_group/N_1)*np.log((N_0_group/N_0)/(N_1_group/N_1)))\n",
    "    if iv>=1.0:## 处理极端值\n",
    "        iv=1\n",
    "    return iv\n",
    "\n",
    "def caliv_batch(df,Yvar):\n",
    "    ivlist=[]\n",
    "    for col in df.columns:\n",
    "        iv=CalcIV(df[col],Yvar)\n",
    "        ivlist.append(iv)\n",
    "    names=list(df.columns)\n",
    "    iv_df=pd.DataFrame({'Var':names,'Iv':ivlist},columns=['Var','Iv'])\n",
    "\n",
    "    return iv_df,ivlist\n",
    "im_iv, ivl = caliv_batch(data,y)\n"
   ]
  },
  {
   "cell_type": "code",
   "execution_count": null,
   "metadata": {},
   "outputs": [],
   "source": []
  }
 ],
 "metadata": {
  "kernelspec": {
   "display_name": "Python 3",
   "language": "python",
   "name": "python3"
  },
  "language_info": {
   "codemirror_mode": {
    "name": "ipython",
    "version": 3
   },
   "file_extension": ".py",
   "mimetype": "text/x-python",
   "name": "python",
   "nbconvert_exporter": "python",
   "pygments_lexer": "ipython3",
   "version": "3.7.0"
  }
 },
 "nbformat": 4,
 "nbformat_minor": 2
}
